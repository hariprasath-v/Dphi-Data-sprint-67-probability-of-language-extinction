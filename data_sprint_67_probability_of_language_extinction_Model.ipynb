{
  "nbformat": 4,
  "nbformat_minor": 0,
  "metadata": {
    "colab": {
      "name": "data-sprint-67-probability-of-language-extinction_EDA.ipynb",
      "provenance": [],
      "collapsed_sections": []
    },
    "kernelspec": {
      "name": "python3",
      "display_name": "Python 3"
    },
    "language_info": {
      "name": "python"
    }
  },
  "cells": [
    {
      "cell_type": "markdown",
      "metadata": {
        "id": "tVnuDb1CscTz"
      },
      "source": [
        "## Introduction\n",
        "####  Build a  Machine Learning model to classify each language on the basis on their extinction probability."
      ]
    },
    {
      "cell_type": "markdown",
      "metadata": {
        "id": "qhC4Y0evthv7"
      },
      "source": [
        "### Import the necessary packages."
      ]
    },
    {
      "cell_type": "code",
      "metadata": {
        "id": "5NPr3xwYn8US"
      },
      "source": [
        "import numpy as np # linear algebra\n",
        "import pandas as pd # data processing, CSV file I/O (e.g. pd.read_csv)\n",
        "import seaborn as sns # visualization\n",
        "from matplotlib import pyplot as plt # visualization\n",
        "%matplotlib inline\n",
        "import warnings\n",
        "warnings.filterwarnings(\"ignore\")\n",
        "import re\n",
        "from sklearn.preprocessing import LabelEncoder,StandardScaler,PolynomialFeatures"
      ],
      "execution_count": 145,
      "outputs": []
    },
    {
      "cell_type": "code",
      "metadata": {
        "colab": {
          "base_uri": "https://localhost:8080/"
        },
        "id": "yrgBbzEBoQdi",
        "outputId": "9192e920-3922-40d7-c14e-5a09f0a94542"
      },
      "source": [
        "from google.colab import drive\n",
        "drive.mount('/content/gdrive')"
      ],
      "execution_count": 2,
      "outputs": [
        {
          "output_type": "stream",
          "name": "stdout",
          "text": [
            "Mounted at /content/gdrive\n"
          ]
        }
      ]
    },
    {
      "cell_type": "markdown",
      "metadata": {
        "id": "4v-Zy4gIn8UW"
      },
      "source": [
        "### Import train and test dataset"
      ]
    },
    {
      "cell_type": "code",
      "metadata": {
        "id": "2-h0bcvHn8UZ"
      },
      "source": [
        "train=pd.read_csv(\"/content/gdrive/MyDrive/data-sprint-67-probability-of-language-extinction/train_dataset.csv\")\n",
        "test=pd.read_csv(\"/content/gdrive/MyDrive/data-sprint-67-probability-of-language-extinction/test_dataset.csv\")"
      ],
      "execution_count": 175,
      "outputs": []
    },
    {
      "cell_type": "markdown",
      "metadata": {
        "id": "KpDOQBIHn8Uc"
      },
      "source": [
        "### Structure of the train and test dataset."
      ]
    },
    {
      "cell_type": "code",
      "metadata": {
        "colab": {
          "base_uri": "https://localhost:8080/"
        },
        "id": "yiEt7ie-n8Ue",
        "outputId": "e95a785b-e35a-431c-b512-b2e61c24fcdc"
      },
      "source": [
        "train.shape"
      ],
      "execution_count": null,
      "outputs": [
        {
          "output_type": "execute_result",
          "data": {
            "text/plain": [
              "(1905, 508)"
            ]
          },
          "metadata": {},
          "execution_count": 6
        }
      ]
    },
    {
      "cell_type": "code",
      "source": [
        "for i ,col in enumerate(train.columns):\n",
        "  print(f\"{i}_{col}\")"
      ],
      "metadata": {
        "id": "vckyN0S4rHYw"
      },
      "execution_count": null,
      "outputs": []
    },
    {
      "cell_type": "markdown",
      "metadata": {
        "id": "82yE67YUn8Uh"
      },
      "source": [
        "#### The above information shows that there are 1905 data entries and 508 columns.\n",
        "\n",
        "#### The target column is **Degree of endangerment**."
      ]
    },
    {
      "cell_type": "code",
      "metadata": {
        "colab": {
          "base_uri": "https://localhost:8080/"
        },
        "id": "rLuAlaRdn8Um",
        "outputId": "9c965c1f-2116-4eaf-ab5e-f722bcc739e1"
      },
      "source": [
        "test.shape"
      ],
      "execution_count": null,
      "outputs": [
        {
          "output_type": "execute_result",
          "data": {
            "text/plain": [
              "(817, 507)"
            ]
          },
          "metadata": {},
          "execution_count": 8
        }
      ]
    },
    {
      "cell_type": "markdown",
      "metadata": {
        "id": "AvLZ0RP1n8Up"
      },
      "source": [
        "#### The above information shows that there are 817 data entries and 507 columns."
      ]
    },
    {
      "cell_type": "markdown",
      "metadata": {
        "id": "wwosQMPon8Us"
      },
      "source": [
        "#### Let's see is there any missing values in train and test dataset by column wise."
      ]
    },
    {
      "cell_type": "code",
      "metadata": {
        "id": "GTvLJlIEn8Uv",
        "colab": {
          "base_uri": "https://localhost:8080/"
        },
        "outputId": "08310112-07d2-4d2d-d1ba-a552cf6b00f2"
      },
      "source": [
        "train.columns[train.isnull().any()]"
      ],
      "execution_count": 134,
      "outputs": [
        {
          "output_type": "execute_result",
          "data": {
            "text/plain": [
              "Index([], dtype='object')"
            ]
          },
          "metadata": {},
          "execution_count": 134
        }
      ]
    },
    {
      "cell_type": "markdown",
      "metadata": {
        "id": "OpYFpMVUn8Uw"
      },
      "source": [
        "#### The above information shows that there are no missing values.."
      ]
    },
    {
      "cell_type": "code",
      "metadata": {
        "colab": {
          "base_uri": "https://localhost:8080/"
        },
        "id": "_PKjtK37n8Uz",
        "outputId": "43d3cc93-f023-40fd-e6b8-457a17dc5af8"
      },
      "source": [
        "test.columns[test.isnull().any()]"
      ],
      "execution_count": 135,
      "outputs": [
        {
          "output_type": "execute_result",
          "data": {
            "text/plain": [
              "Index([], dtype='object')"
            ]
          },
          "metadata": {},
          "execution_count": 135
        }
      ]
    },
    {
      "cell_type": "markdown",
      "metadata": {
        "id": "xuzvKIW0n8U1"
      },
      "source": [
        "#### The above information shows that there are no missing values.."
      ]
    },
    {
      "cell_type": "markdown",
      "metadata": {
        "id": "D6zhPGSDn8U3"
      },
      "source": [
        "#### Let's see the glimpse of train dataset"
      ]
    },
    {
      "cell_type": "code",
      "source": [
        "train.head(2)"
      ],
      "metadata": {
        "colab": {
          "base_uri": "https://localhost:8080/",
          "height": 882
        },
        "id": "2y4cFxexlL7w",
        "outputId": "7ed99485-09c6-465f-b1d9-cc60a39f2d71"
      },
      "execution_count": 196,
      "outputs": [
        {
          "output_type": "execute_result",
          "data": {
            "text/plain": [
              "   Number of speakers  Latitude  Longitude  Afghanistan  \\\n",
              "0             2713790        19         80            0   \n",
              "1                 450        30        -94            0   \n",
              "\n",
              "   Albania, Algeria, Bosnia and Herzegovina, Bulgaria, Croatia, Greece, The former Yugoslav Republic of Macedonia, Morocco, Romania, Turkey, Serbia  \\\n",
              "0                                                  0                                                                                                  \n",
              "1                                                  0                                                                                                  \n",
              "\n",
              "   Albania, Bulgaria, Greece, The former Yugoslav Republic of Macedonia, Serbia  \\\n",
              "0                                                  0                              \n",
              "1                                                  0                              \n",
              "\n",
              "   Albania, Bulgaria, The former Yugoslav Republic of Macedonia, Romania, Serbia  \\\n",
              "0                                                  0                               \n",
              "1                                                  0                               \n",
              "\n",
              "   Albania, Germany, Austria, Belarus, Bosnia and Herzegovina, Bulgaria, Croatia, Estonia, Finland, France, Greece, Hungary, Italy, Latvia, Lithuania, The former Yugoslav Republic of Macedonia, Netherlands, Poland, Romania, United Kingdom of Great Britain and Northern Ireland, Russian Federation, Slovakia, Slovenia, Switzerland, Czech Republic, Turkey, Ukraine, Serbia, Montenegro  \\\n",
              "0                                                  0                                                                                                                                                                                                                                                                                                                                             \n",
              "1                                                  0                                                                                                                                                                                                                                                                                                                                             \n",
              "\n",
              "   Algeria  Angola  ...  loc_group  lat_long  clus  Number of speakers_mean  \\\n",
              "0        0       0  ...          1     19700     4             3.081785e+06   \n",
              "1        0       0  ...          1     21506     3             3.854703e+04   \n",
              "\n",
              "   Number of speakers_median  Number of speakers_std  Number of speakers_var  \\\n",
              "0                  2600000.0            1.536930e+06            2.362155e+12   \n",
              "1                      500.0            1.531795e+05            2.346395e+10   \n",
              "\n",
              "   Number of speakers_ptp  Number of speakers_min  Number of speakers_max  \n",
              "0                 5777232                 1722768                 7500000  \n",
              "1                 1500000                       0                 1500000  \n",
              "\n",
              "[2 rows x 518 columns]"
            ],
            "text/html": [
              "\n",
              "  <div id=\"df-28437642-a0bb-4d63-b88d-8b8daee4dd98\">\n",
              "    <div class=\"colab-df-container\">\n",
              "      <div>\n",
              "<style scoped>\n",
              "    .dataframe tbody tr th:only-of-type {\n",
              "        vertical-align: middle;\n",
              "    }\n",
              "\n",
              "    .dataframe tbody tr th {\n",
              "        vertical-align: top;\n",
              "    }\n",
              "\n",
              "    .dataframe thead th {\n",
              "        text-align: right;\n",
              "    }\n",
              "</style>\n",
              "<table border=\"1\" class=\"dataframe\">\n",
              "  <thead>\n",
              "    <tr style=\"text-align: right;\">\n",
              "      <th></th>\n",
              "      <th>Number of speakers</th>\n",
              "      <th>Latitude</th>\n",
              "      <th>Longitude</th>\n",
              "      <th>Afghanistan</th>\n",
              "      <th>Albania, Algeria, Bosnia and Herzegovina, Bulgaria, Croatia, Greece, The former Yugoslav Republic of Macedonia, Morocco, Romania, Turkey, Serbia</th>\n",
              "      <th>Albania, Bulgaria, Greece, The former Yugoslav Republic of Macedonia, Serbia</th>\n",
              "      <th>Albania, Bulgaria, The former Yugoslav Republic of Macedonia, Romania, Serbia</th>\n",
              "      <th>Albania, Germany, Austria, Belarus, Bosnia and Herzegovina, Bulgaria, Croatia, Estonia, Finland, France, Greece, Hungary, Italy, Latvia, Lithuania, The former Yugoslav Republic of Macedonia, Netherlands, Poland, Romania, United Kingdom of Great Britain and Northern Ireland, Russian Federation, Slovakia, Slovenia, Switzerland, Czech Republic, Turkey, Ukraine, Serbia, Montenegro</th>\n",
              "      <th>Algeria</th>\n",
              "      <th>Angola</th>\n",
              "      <th>...</th>\n",
              "      <th>loc_group</th>\n",
              "      <th>lat_long</th>\n",
              "      <th>clus</th>\n",
              "      <th>Number of speakers_mean</th>\n",
              "      <th>Number of speakers_median</th>\n",
              "      <th>Number of speakers_std</th>\n",
              "      <th>Number of speakers_var</th>\n",
              "      <th>Number of speakers_ptp</th>\n",
              "      <th>Number of speakers_min</th>\n",
              "      <th>Number of speakers_max</th>\n",
              "    </tr>\n",
              "  </thead>\n",
              "  <tbody>\n",
              "    <tr>\n",
              "      <th>0</th>\n",
              "      <td>2713790</td>\n",
              "      <td>19</td>\n",
              "      <td>80</td>\n",
              "      <td>0</td>\n",
              "      <td>0</td>\n",
              "      <td>0</td>\n",
              "      <td>0</td>\n",
              "      <td>0</td>\n",
              "      <td>0</td>\n",
              "      <td>0</td>\n",
              "      <td>...</td>\n",
              "      <td>1</td>\n",
              "      <td>19700</td>\n",
              "      <td>4</td>\n",
              "      <td>3.081785e+06</td>\n",
              "      <td>2600000.0</td>\n",
              "      <td>1.536930e+06</td>\n",
              "      <td>2.362155e+12</td>\n",
              "      <td>5777232</td>\n",
              "      <td>1722768</td>\n",
              "      <td>7500000</td>\n",
              "    </tr>\n",
              "    <tr>\n",
              "      <th>1</th>\n",
              "      <td>450</td>\n",
              "      <td>30</td>\n",
              "      <td>-94</td>\n",
              "      <td>0</td>\n",
              "      <td>0</td>\n",
              "      <td>0</td>\n",
              "      <td>0</td>\n",
              "      <td>0</td>\n",
              "      <td>0</td>\n",
              "      <td>0</td>\n",
              "      <td>...</td>\n",
              "      <td>1</td>\n",
              "      <td>21506</td>\n",
              "      <td>3</td>\n",
              "      <td>3.854703e+04</td>\n",
              "      <td>500.0</td>\n",
              "      <td>1.531795e+05</td>\n",
              "      <td>2.346395e+10</td>\n",
              "      <td>1500000</td>\n",
              "      <td>0</td>\n",
              "      <td>1500000</td>\n",
              "    </tr>\n",
              "  </tbody>\n",
              "</table>\n",
              "<p>2 rows × 518 columns</p>\n",
              "</div>\n",
              "      <button class=\"colab-df-convert\" onclick=\"convertToInteractive('df-28437642-a0bb-4d63-b88d-8b8daee4dd98')\"\n",
              "              title=\"Convert this dataframe to an interactive table.\"\n",
              "              style=\"display:none;\">\n",
              "        \n",
              "  <svg xmlns=\"http://www.w3.org/2000/svg\" height=\"24px\"viewBox=\"0 0 24 24\"\n",
              "       width=\"24px\">\n",
              "    <path d=\"M0 0h24v24H0V0z\" fill=\"none\"/>\n",
              "    <path d=\"M18.56 5.44l.94 2.06.94-2.06 2.06-.94-2.06-.94-.94-2.06-.94 2.06-2.06.94zm-11 1L8.5 8.5l.94-2.06 2.06-.94-2.06-.94L8.5 2.5l-.94 2.06-2.06.94zm10 10l.94 2.06.94-2.06 2.06-.94-2.06-.94-.94-2.06-.94 2.06-2.06.94z\"/><path d=\"M17.41 7.96l-1.37-1.37c-.4-.4-.92-.59-1.43-.59-.52 0-1.04.2-1.43.59L10.3 9.45l-7.72 7.72c-.78.78-.78 2.05 0 2.83L4 21.41c.39.39.9.59 1.41.59.51 0 1.02-.2 1.41-.59l7.78-7.78 2.81-2.81c.8-.78.8-2.07 0-2.86zM5.41 20L4 18.59l7.72-7.72 1.47 1.35L5.41 20z\"/>\n",
              "  </svg>\n",
              "      </button>\n",
              "      \n",
              "  <style>\n",
              "    .colab-df-container {\n",
              "      display:flex;\n",
              "      flex-wrap:wrap;\n",
              "      gap: 12px;\n",
              "    }\n",
              "\n",
              "    .colab-df-convert {\n",
              "      background-color: #E8F0FE;\n",
              "      border: none;\n",
              "      border-radius: 50%;\n",
              "      cursor: pointer;\n",
              "      display: none;\n",
              "      fill: #1967D2;\n",
              "      height: 32px;\n",
              "      padding: 0 0 0 0;\n",
              "      width: 32px;\n",
              "    }\n",
              "\n",
              "    .colab-df-convert:hover {\n",
              "      background-color: #E2EBFA;\n",
              "      box-shadow: 0px 1px 2px rgba(60, 64, 67, 0.3), 0px 1px 3px 1px rgba(60, 64, 67, 0.15);\n",
              "      fill: #174EA6;\n",
              "    }\n",
              "\n",
              "    [theme=dark] .colab-df-convert {\n",
              "      background-color: #3B4455;\n",
              "      fill: #D2E3FC;\n",
              "    }\n",
              "\n",
              "    [theme=dark] .colab-df-convert:hover {\n",
              "      background-color: #434B5C;\n",
              "      box-shadow: 0px 1px 3px 1px rgba(0, 0, 0, 0.15);\n",
              "      filter: drop-shadow(0px 1px 2px rgba(0, 0, 0, 0.3));\n",
              "      fill: #FFFFFF;\n",
              "    }\n",
              "  </style>\n",
              "\n",
              "      <script>\n",
              "        const buttonEl =\n",
              "          document.querySelector('#df-28437642-a0bb-4d63-b88d-8b8daee4dd98 button.colab-df-convert');\n",
              "        buttonEl.style.display =\n",
              "          google.colab.kernel.accessAllowed ? 'block' : 'none';\n",
              "\n",
              "        async function convertToInteractive(key) {\n",
              "          const element = document.querySelector('#df-28437642-a0bb-4d63-b88d-8b8daee4dd98');\n",
              "          const dataTable =\n",
              "            await google.colab.kernel.invokeFunction('convertToInteractive',\n",
              "                                                     [key], {});\n",
              "          if (!dataTable) return;\n",
              "\n",
              "          const docLinkHtml = 'Like what you see? Visit the ' +\n",
              "            '<a target=\"_blank\" href=https://colab.research.google.com/notebooks/data_table.ipynb>data table notebook</a>'\n",
              "            + ' to learn more about interactive tables.';\n",
              "          element.innerHTML = '';\n",
              "          dataTable['output_type'] = 'display_data';\n",
              "          await google.colab.output.renderOutput(dataTable, element);\n",
              "          const docLink = document.createElement('div');\n",
              "          docLink.innerHTML = docLinkHtml;\n",
              "          element.appendChild(docLink);\n",
              "        }\n",
              "      </script>\n",
              "    </div>\n",
              "  </div>\n",
              "  "
            ]
          },
          "metadata": {},
          "execution_count": 196
        }
      ]
    },
    {
      "cell_type": "markdown",
      "source": [
        "### Data Pre-Processing"
      ],
      "metadata": {
        "id": "dVGOtIgLlV20"
      }
    },
    {
      "cell_type": "code",
      "source": [
        "def pre_process(df):\n",
        "  df['loc_group']=df.groupby(['Latitude','Longitude'])['Longitude'].transform('count')\n",
        "  df['lat_long']=(df['Latitude']+90)*180+df['Longitude']\n",
        "  return df"
      ],
      "metadata": {
        "id": "f8FBzoyMomEj"
      },
      "execution_count": 138,
      "outputs": []
    },
    {
      "cell_type": "markdown",
      "source": [
        "#### Apply pre_process function to train dataset"
      ],
      "metadata": {
        "id": "y2UY21ELmpLL"
      }
    },
    {
      "cell_type": "code",
      "source": [
        "train=pre_process(train)"
      ],
      "metadata": {
        "id": "gso_MnXkmjXg"
      },
      "execution_count": 176,
      "outputs": []
    },
    {
      "cell_type": "markdown",
      "source": [
        "### Define Standard scaling function"
      ],
      "metadata": {
        "id": "0Crjr2S6mwVc"
      }
    },
    {
      "cell_type": "code",
      "source": [
        "scl=StandardScaler()"
      ],
      "metadata": {
        "id": "wJcOPC9Z4wKc"
      },
      "execution_count": 157,
      "outputs": []
    },
    {
      "cell_type": "markdown",
      "source": [
        "### Let's use kmeans clustering and group the similar data points."
      ],
      "metadata": {
        "id": "RGH1kAwmm2Ft"
      }
    },
    {
      "cell_type": "code",
      "source": [
        "from sklearn.cluster import KMeans"
      ],
      "metadata": {
        "id": "x_xwjfa-zBRr"
      },
      "execution_count": 158,
      "outputs": []
    },
    {
      "cell_type": "code",
      "source": [
        "cols=['Number of speakers','Latitude','Longitude','lat_long']"
      ],
      "metadata": {
        "id": "tCevlEspX7D3"
      },
      "execution_count": 159,
      "outputs": []
    },
    {
      "cell_type": "code",
      "source": [
        "iner=[]\n",
        "for k in range(1,10):\n",
        "  kmeans = KMeans(n_clusters=k, random_state=0).fit(scl.fit_transform(train.loc[:,cols]))\n",
        "  iner.append(kmeans.inertia_)\n"
      ],
      "metadata": {
        "id": "StwSARSgzGYV"
      },
      "execution_count": 160,
      "outputs": []
    },
    {
      "cell_type": "code",
      "source": [
        "sns.lineplot(x=range(1,10),y=iner)"
      ],
      "metadata": {
        "colab": {
          "base_uri": "https://localhost:8080/",
          "height": 282
        },
        "id": "CavF9t06zs4P",
        "outputId": "697b6dd3-6a28-4231-9892-de3c163922ab"
      },
      "execution_count": 161,
      "outputs": [
        {
          "output_type": "execute_result",
          "data": {
            "text/plain": [
              "<matplotlib.axes._subplots.AxesSubplot at 0x7f41c3832710>"
            ]
          },
          "metadata": {},
          "execution_count": 161
        },
        {
          "output_type": "display_data",
          "data": {
            "text/plain": [
              "<Figure size 432x288 with 1 Axes>"
            ],
            "image/png": "[encoded data removed]"
          },
          "metadata": {
            "needs_background": "light"
          }
        }
      ]
    },
    {
      "cell_type": "markdown",
      "source": [
        "#### Let's use 5 clusters and fit the data"
      ],
      "metadata": {
        "id": "GwftNfjlnR7e"
      }
    },
    {
      "cell_type": "code",
      "source": [
        "kmeans = KMeans(n_clusters=5, random_state=0).fit(scl.fit_transform(train.loc[:,cols]))\n"
      ],
      "metadata": {
        "id": "aDKTz4SFz0gU"
      },
      "execution_count": 177,
      "outputs": []
    },
    {
      "cell_type": "markdown",
      "source": [
        "### Create a column for cluster labels"
      ],
      "metadata": {
        "id": "DeZYYmrtnapG"
      }
    },
    {
      "cell_type": "code",
      "source": [
        "train['clus']=kmeans.labels_"
      ],
      "metadata": {
        "id": "WzsBqmkU0Aid"
      },
      "execution_count": 178,
      "outputs": []
    },
    {
      "cell_type": "markdown",
      "source": [
        "### Let's do some feature engineering for numerical columns"
      ],
      "metadata": {
        "id": "Uh9sgiiVpYDf"
      }
    },
    {
      "cell_type": "code",
      "source": [
        "def feature_eng(df):\n",
        "\n",
        "  numcols=['Number of speakers']\n",
        "\n",
        "  grpcol=['clus'] \n",
        "  \"\"\"group by numerical summary of each numerical column\"\"\"\n",
        "  for valcol in numcols:\n",
        "    df1=(df.groupby(grpcol)[valcol].\n",
        "             agg({'min','median','mean','max',np.ptp,'std','var'}).reset_index())\n",
        "    df1=(df1.rename(columns={c:valcol+'_'+c for c in df1.loc[:,df1.columns.str.\n",
        "                                                match(\"(min|median|mean|max|ptp|std|var)\")]}))\n",
        "    df=pd.merge(df,df1,on=grpcol,how='left')\n",
        "  return df  \n",
        "\n",
        "\n",
        "  return df\n"
      ],
      "metadata": {
        "id": "gTONIkZ9ouzH"
      },
      "execution_count": 179,
      "outputs": []
    },
    {
      "cell_type": "code",
      "source": [
        "train=feature_eng(train)"
      ],
      "metadata": {
        "id": "dhBuwGXIpfVI"
      },
      "execution_count": 180,
      "outputs": []
    },
    {
      "cell_type": "markdown",
      "source": [
        "### Let's same pre-process task for the test data"
      ],
      "metadata": {
        "id": "NYlg9b-fn6HC"
      }
    },
    {
      "cell_type": "code",
      "source": [
        "test=pre_process(test)"
      ],
      "metadata": {
        "id": "pAFa5bj2ql5D"
      },
      "execution_count": 181,
      "outputs": []
    },
    {
      "cell_type": "code",
      "source": [
        "test['clus']=kmeans.predict(scl.fit_transform(test.loc[:,cols]))"
      ],
      "metadata": {
        "id": "I6LDrcpZ1ZZP"
      },
      "execution_count": 182,
      "outputs": []
    },
    {
      "cell_type": "code",
      "source": [
        "test=feature_eng(test)"
      ],
      "metadata": {
        "id": "GyLPHl4GpmKl"
      },
      "execution_count": 183,
      "outputs": []
    },
    {
      "cell_type": "markdown",
      "source": [
        "### Let's create Xgboost classifier model"
      ],
      "metadata": {
        "id": "gPNc4VYUr5fd"
      }
    },
    {
      "cell_type": "code",
      "source": [
        "!pip install -q optuna"
      ],
      "metadata": {
        "id": "_LCS3dbzvzcK"
      },
      "execution_count": null,
      "outputs": []
    },
    {
      "cell_type": "code",
      "source": [
        "from sklearn.model_selection import  cross_val_score,KFold,train_test_split,RepeatedStratifiedKFold,StratifiedKFold,learning_curve\n",
        "import optuna\n",
        "from optuna.samplers import RandomSampler,TPESampler,MOTPESampler,CmaEsSampler\n",
        "from sklearn.metrics import accuracy_score\n",
        "from xgboost import XGBClassifier,plot_tree\n",
        "import xgboost as xgb\n",
        "from optuna.integration import XGBoostPruningCallback,LightGBMPruningCallback"
      ],
      "metadata": {
        "id": "jPS3uJtQvvmx"
      },
      "execution_count": 152,
      "outputs": []
    },
    {
      "cell_type": "code",
      "source": [
        "for i ,col in enumerate(train.columns):\n",
        "  print(f\"{i}_{col}\")"
      ],
      "metadata": {
        "id": "twBCz1HJv5Wd"
      },
      "execution_count": null,
      "outputs": []
    },
    {
      "cell_type": "markdown",
      "source": [
        "### Label encode the target column."
      ],
      "metadata": {
        "id": "egtkCh2Zp7XN"
      }
    },
    {
      "cell_type": "code",
      "source": [
        "lbl=LabelEncoder()"
      ],
      "metadata": {
        "id": "JBWrHDZxwsTO"
      },
      "execution_count": 111,
      "outputs": []
    },
    {
      "cell_type": "code",
      "source": [
        "train['Degree of endangerment']=lbl.fit_transform(train['Degree of endangerment'])"
      ],
      "metadata": {
        "id": "cKihhGaPwxNi"
      },
      "execution_count": 185,
      "outputs": []
    },
    {
      "cell_type": "markdown",
      "source": [
        "### Split predictor and target variable"
      ],
      "metadata": {
        "id": "rJfledldqC4d"
      }
    },
    {
      "cell_type": "code",
      "source": [
        "X=train.iloc[:,np.r_[0:507,508:517]]\n",
        "y=train['Degree of endangerment']"
      ],
      "metadata": {
        "id": "VGbTwiikwFLy"
      },
      "execution_count": 186,
      "outputs": []
    },
    {
      "cell_type": "code",
      "source": [
        "def objective(trial):\n",
        "  skf = StratifiedKFold(n_splits=10,random_state=20,shuffle=True)\n",
        "  for i, (train_index, test_index) in enumerate(skf.split(X,y)):\n",
        "    X_train, X_valid = X.iloc[train_index], X.iloc[test_index]\n",
        "    y_train, y_valid = y.iloc[train_index], y.iloc[test_index]\n",
        "    param = {\n",
        "        \"verbosity\": 1,\n",
        "        #\"objective\": \"binary:logistic\",\n",
        "        # use exact for small dataset.\n",
        "        \"tree_method\": trial.suggest_categorical(\"tree_method\",['exact', 'approx', 'hist']),\n",
        "        \"eta\": trial.suggest_float(\"eta\", 0.000001, 1.0),\n",
        "\n",
        "        #'interaction_constraints':[[2,3,8,12],[12,13,14],[5,6,9,12]],\n",
        "        # defines booster, gblinear for linear functions.\n",
        "        \"booster\": trial.suggest_categorical(\"booster\", [\"gbtree\", \"dart\"]),\n",
        "        # L2 regularization weight.\n",
        "        \"lambda\": trial.suggest_float(\"lambda\", 1e-8, 1.0, log=True),\n",
        "        # L1 regularization weight.\n",
        "        \"alpha\": trial.suggest_float(\"alpha\", 1e-8, 1.0, log=True),\n",
        "        # sampling ratio for training data.\n",
        "        \"subsample\": trial.suggest_float(\"subsample\", 0.1, 1.0),\n",
        "        # sampling according to each tree.\n",
        "        \"colsample_bytree\": trial.suggest_float(\"colsample_bytree\", 0.2, 1.0),\n",
        "\n",
        "        \"n_estimators\":trial.suggest_int(\"n_estimators\",100,1000)\n",
        "    }\n",
        "\n",
        "    if param[\"booster\"] in [\"gbtree\", \"dart\"]:\n",
        "        # maximum depth of the tree, signifies complexity of the tree.\n",
        "        param[\"max_depth\"] = trial.suggest_int(\"max_depth\", 2, 20)\n",
        "        # minimum child weight, larger the term more conservative the tree.\n",
        "        param[\"min_child_weight\"] = trial.suggest_int(\"min_child_weight\", 2, 30)\n",
        "        \n",
        "        # defines how selective algorithm is.\n",
        "        param[\"gamma\"] = trial.suggest_float(\"gamma\", 1e-8, 1.0, log=True)\n",
        "        param[\"grow_policy\"] = trial.suggest_categorical(\"grow_policy\", [\"depthwise\", \"lossguide\"])\n",
        "\n",
        "    if param[\"booster\"] == \"dart\":\n",
        "        param[\"sample_type\"] = trial.suggest_categorical(\"sample_type\", [\"uniform\", \"weighted\"])\n",
        "        param[\"normalize_type\"] = trial.suggest_categorical(\"normalize_type\", [\"tree\", \"forest\"])\n",
        "        param[\"rate_drop\"] = trial.suggest_float(\"rate_drop\", 1e-8, 1.0, log=True)\n",
        "        param[\"skip_drop\"] = trial.suggest_float(\"skip_drop\", 1e-8, 1.0, log=True)\n",
        "    pruning_callback = optuna.integration.XGBoostPruningCallback(trial, \"validation_0-merror\")\n",
        "    xgb_clf=XGBClassifier(early_stopping_rounds=200,\n",
        "                               \n",
        "                              **param)\n",
        "    xgb_clf.fit(X_train,y_train,\n",
        "               eval_set=[(X_valid, y_valid)],\n",
        "            eval_metric='merror',\n",
        "            callbacks=[pruning_callback],\n",
        "           \n",
        "             )\n",
        "    preds = xgb_clf.predict(X_valid)\n",
        "    accuracy = accuracy_score(y_valid, preds)\n",
        "    return accuracy\n",
        "\n",
        "\n",
        "if __name__ == \"__main__\":\n",
        "    study1 = optuna.create_study(direction='maximize',sampler=MOTPESampler(),\n",
        "           pruner=optuna.pruners.SuccessiveHalvingPruner())\n",
        "    study1.optimize(objective, n_trials=50)\n",
        "    print('Number of finished trials:', len(study1.trials))\n",
        "    print('Best trial:', study1.best_trial.params)  "
      ],
      "metadata": {
        "id": "OiG9olYwwqDU"
      },
      "execution_count": null,
      "outputs": []
    },
    {
      "cell_type": "code",
      "source": [
        "print(f\"{study1.best_value}, {study1.best_params}\")"
      ],
      "metadata": {
        "colab": {
          "base_uri": "https://localhost:8080/"
        },
        "id": "vM2fQsFGzUTn",
        "outputId": "3972354d-7469-42f1-fe4d-94d0e10a1191"
      },
      "execution_count": 188,
      "outputs": [
        {
          "output_type": "stream",
          "name": "stdout",
          "text": [
            "0.643979057591623, {'tree_method': 'exact', 'eta': 0.31663043255664886, 'booster': 'dart', 'lambda': 7.918702182728286e-06, 'alpha': 9.366571976455802e-05, 'subsample': 0.5186319222953145, 'colsample_bytree': 0.8752536482443778, 'n_estimators': 112, 'max_depth': 15, 'min_child_weight': 23, 'gamma': 2.884504582569639e-06, 'grow_policy': 'depthwise', 'sample_type': 'weighted', 'normalize_type': 'forest', 'rate_drop': 0.01947872172155747, 'skip_drop': 5.1457671314054056e-08}\n"
          ]
        }
      ]
    },
    {
      "cell_type": "markdown",
      "source": [
        "### Create model with tuned parameters"
      ],
      "metadata": {
        "id": "pjcVBKjB0y4n"
      }
    },
    {
      "cell_type": "code",
      "source": [
        "xgb_clf = XGBClassifier(early_stopping_rounds=200,\n",
        "                        **study1.best_params)"
      ],
      "metadata": {
        "id": "5oFvwG4xwZKB"
      },
      "execution_count": 189,
      "outputs": []
    },
    {
      "cell_type": "markdown",
      "source": [
        "### Fit the model"
      ],
      "metadata": {
        "id": "Ps_347UW_XuG"
      }
    },
    {
      "cell_type": "code",
      "source": [
        "xgb_clf.fit(X,y,eval_metric='merror')"
      ],
      "metadata": {
        "colab": {
          "base_uri": "https://localhost:8080/"
        },
        "id": "pKe5e9cBwhx0",
        "outputId": "0ec011e7-162a-4a76-afcd-c1fc45d6969e"
      },
      "execution_count": 190,
      "outputs": [
        {
          "output_type": "execute_result",
          "data": {
            "text/plain": [
              "XGBClassifier(alpha=9.366571976455802e-05, booster='dart',\n",
              "              colsample_bytree=0.8752536482443778, early_stopping_rounds=200,\n",
              "              eta=0.31663043255664886, gamma=2.884504582569639e-06,\n",
              "              grow_policy='depthwise', lambda=7.918702182728286e-06,\n",
              "              max_depth=15, min_child_weight=23, n_estimators=112,\n",
              "              normalize_type='forest', objective='multi:softprob',\n",
              "              rate_drop=0.01947872172155747, sample_type='weighted',\n",
              "              skip_drop=5.1457671314054056e-08, subsample=0.5186319222953145,\n",
              "              tree_method='exact')"
            ]
          },
          "metadata": {},
          "execution_count": 190
        }
      ]
    },
    {
      "cell_type": "markdown",
      "source": [
        "### Predict the test data"
      ],
      "metadata": {
        "id": "4aCWNE1duzml"
      }
    },
    {
      "cell_type": "code",
      "source": [
        "pred=xgb_clf.predict(test.loc[:,X.columns])"
      ],
      "metadata": {
        "id": "pCLZo-mVwZvr"
      },
      "execution_count": 191,
      "outputs": []
    },
    {
      "cell_type": "markdown",
      "source": [
        "### Create result dataframe"
      ],
      "metadata": {
        "id": "FUiT4R83u4lx"
      }
    },
    {
      "cell_type": "code",
      "source": [
        "res=pd.DataFrame({'Degree of endangerment':pred})"
      ],
      "metadata": {
        "id": "KPefDzpCq2Kb"
      },
      "execution_count": 192,
      "outputs": []
    },
    {
      "cell_type": "markdown",
      "source": [
        "### Apply inverse label encoder"
      ],
      "metadata": {
        "id": "rBWmj35I14Zz"
      }
    },
    {
      "cell_type": "code",
      "source": [
        "res['Degree of endangerment']=lbl.inverse_transform(res['Degree of endangerment'])"
      ],
      "metadata": {
        "id": "yqKVu0Wj1kIq"
      },
      "execution_count": 193,
      "outputs": []
    },
    {
      "cell_type": "markdown",
      "source": [
        "### Write the datafram to csv"
      ],
      "metadata": {
        "id": "aIVAqDaSvDgu"
      }
    },
    {
      "cell_type": "code",
      "source": [
        "res.to_csv(\"XGboost_Classifier_with_optuna_tuning.csv\",index=False)"
      ],
      "metadata": {
        "id": "eAhEHwMeq8lD"
      },
      "execution_count": 194,
      "outputs": []
    }
  ]
}